{
  "nbformat": 4,
  "nbformat_minor": 0,
  "metadata": {
    "colab": {
      "name": "Restaurant recommender system.ipynb",
      "provenance": []
    },
    "kernelspec": {
      "name": "python3",
      "display_name": "Python 3"
    },
    "language_info": {
      "name": "python"
    }
  },
  "cells": [
    {
      "cell_type": "code",
      "execution_count": null,
      "metadata": {
        "id": "W7X-uvIJLIuM"
      },
      "outputs": [],
      "source": [
        "import numpy as np\n",
        "import pandas as pd\n",
        "import seaborn as sb\n",
        "import matplotlib.pyplot as plt\n",
        "import seaborn as sns\n",
        "import json\n",
        "import pandas as pd\n",
        "from sklearn.linear_model import LogisticRegression\n",
        "from sklearn.linear_model import LinearRegression\n",
        "from sklearn.model_selection import train_test_split\n",
        "from sklearn.metrics import classification_report\n",
        "from sklearn.metrics import confusion_matrix\n",
        "from sklearn.metrics import r2_score\n",
        "import warnings\n",
        "warnings.filterwarnings('always')\n",
        "warnings.filterwarnings('ignore')\n",
        "import re\n",
        "from nltk.corpus import stopwords\n",
        "from sklearn.metrics.pairwise import linear_kernel\n",
        "from sklearn.feature_extraction.text import CountVectorizer\n",
        "from sklearn.feature_extraction.text import TfidfVectorizer\n"
      ]
    },
    {
      "cell_type": "code",
      "source": [
        "\n",
        "\n",
        "ifile = open('/content/drive/MyDrive/Colab Notebooks/review.json') \n",
        "\n",
        "# read the first 100k entries\n",
        "# set to -1 to process everything\n",
        "stop = 100000\n",
        "\n",
        "all_data = list()\n",
        "for i, line in enumerate(ifile):\n",
        "    if i%10000==0:\n",
        "        print(i)\n",
        "    if i==stop:\n",
        "        break    \n",
        "    # convert the json on this line to a dict\n",
        "    data = json.loads(line)\n",
        "    # extract what we want\n",
        "    text = data['text']\n",
        "    stars = data['stars']\n",
        "    # add to the data collected so far\n",
        "    all_data.append([stars, text])\n",
        "# create the DataFrame\n",
        "df1 = pd.DataFrame(all_data, columns=['stars','text'])\n",
        "print(df1)\n",
        "# df.to_hdf('revie20ws.h5','reviews')\n",
        "\n",
        "ifile.close()"
      ],
      "metadata": {
        "colab": {
          "base_uri": "https://localhost:8080/"
        },
        "id": "V4Qs76ZiRu4S",
        "outputId": "844b1004-f933-4d2b-858d-4563dd1a526a"
      },
      "execution_count": null,
      "outputs": [
        {
          "output_type": "stream",
          "name": "stdout",
          "text": [
            "0\n",
            "10000\n",
            "20000\n",
            "30000\n",
            "40000\n",
            "50000\n",
            "60000\n",
            "70000\n",
            "80000\n",
            "90000\n",
            "100000\n",
            "       stars                                               text\n",
            "0        4.0  Apparently Prides Osteria had a rough summer a...\n",
            "1        4.0  This store is pretty good. Not as great as Wal...\n",
            "2        5.0  I called WVM on the recommendation of a couple...\n",
            "3        2.0  I've stayed at many Marriott and Renaissance M...\n",
            "4        4.0  The food is always great here. The service fro...\n",
            "...      ...                                                ...\n",
            "99995    2.0  I figured I would try this place based on so m...\n",
            "99996    4.0  We were there for lunch on April 26th. We opte...\n",
            "99997    5.0  Stopped in here after returning from a trip. A...\n",
            "99998    4.0  Who doesn't love Wendy's! This one however is ...\n",
            "99999    1.0  Unfortunately this is one of the worst of the ...\n",
            "\n",
            "[100000 rows x 2 columns]\n"
          ]
        }
      ]
    },
    {
      "cell_type": "code",
      "source": [
        "ifile = open('/content/drive/MyDrive/Colab Notebooks/business.json') \n",
        "# read the first 100k entries\n",
        "# set to -1 to process everything\n",
        "stop = 100000\n",
        "\n",
        "all_data = list()\n",
        "for i, line in enumerate(ifile):\n",
        "    if i%10000==0:\n",
        "        print(i)\n",
        "    if i==stop:\n",
        "        break    \n",
        "    # convert the json on this line to a dict\n",
        "    data = json.loads(line)\n",
        "    # extract what we want\n",
        "    latitude = data['latitude']\n",
        "    longitude = data['longitude']\n",
        "    # add to the data collected so far\n",
        "    all_data.append([latitude, longitude])\n",
        "# create the DataFrame\n",
        "df2 = pd.DataFrame(all_data, columns=['latitude','longitude'])\n",
        "print(df2)\n",
        "# df.to_hdf('revie20ws.h5','reviews')\n",
        "\n",
        "ifile.close()"
      ],
      "metadata": {
        "colab": {
          "base_uri": "https://localhost:8080/"
        },
        "id": "PXf7doG-5Z20",
        "outputId": "f6d52cfd-78b3-46c4-a2b8-2832e279dc44"
      },
      "execution_count": null,
      "outputs": [
        {
          "output_type": "stream",
          "name": "stdout",
          "text": [
            "0\n",
            "10000\n",
            "20000\n",
            "30000\n",
            "40000\n",
            "50000\n",
            "60000\n",
            "70000\n",
            "80000\n",
            "90000\n",
            "100000\n",
            "        latitude   longitude\n",
            "0      40.017544 -105.283348\n",
            "1      45.588906 -122.593331\n",
            "2      45.511907 -122.613693\n",
            "3      28.914482  -81.295979\n",
            "4      33.747027  -84.353424\n",
            "...          ...         ...\n",
            "99995  28.300459  -81.238718\n",
            "99996  42.283203  -71.049022\n",
            "99997  30.391418  -97.731752\n",
            "99998  40.059574  -83.048010\n",
            "99999  45.524780 -122.645913\n",
            "\n",
            "[100000 rows x 2 columns]\n"
          ]
        }
      ]
    }
  ]
}